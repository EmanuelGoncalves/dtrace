{
 "cells": [
  {
   "cell_type": "code",
   "execution_count": null,
   "metadata": {},
   "outputs": [],
   "source": [
    "%matplotlib inline\n",
    "%autosave 0\n",
    "%load_ext autoreload\n",
    "%autoreload 2"
   ]
  },
  {
   "cell_type": "code",
   "execution_count": null,
   "metadata": {
    "lines_to_next_cell": 2
   },
   "outputs": [],
   "source": [
    "import matplotlib.pyplot as plt\n",
    "from dtrace import rpath\n",
    "from dtrace.Associations import Association\n",
    "from dtrace.TargetBenchmark import TargetBenchmark"
   ]
  },
  {
   "cell_type": "markdown",
   "metadata": {},
   "source": [
    "### Import data-sets and associations"
   ]
  },
  {
   "cell_type": "code",
   "execution_count": null,
   "metadata": {},
   "outputs": [],
   "source": [
    "assoc = Association(dtype=\"ic50\", load_simple_lm=True)"
   ]
  },
  {
   "cell_type": "code",
   "execution_count": null,
   "metadata": {
    "lines_to_next_cell": 2
   },
   "outputs": [],
   "source": [
    "target = TargetBenchmark(assoc=assoc, fdr=0.1)"
   ]
  },
  {
   "cell_type": "markdown",
   "metadata": {},
   "source": [
    "Top associations between drug-response and gene-essentiality"
   ]
  },
  {
   "cell_type": "code",
   "execution_count": null,
   "metadata": {
    "lines_to_next_cell": 2
   },
   "outputs": [],
   "source": [
    "assoc.lmm_drug_crispr.head(15)"
   ]
  },
  {
   "cell_type": "markdown",
   "metadata": {},
   "source": [
    "Volcano plot of the significant associations"
   ]
  },
  {
   "cell_type": "code",
   "execution_count": null,
   "metadata": {
    "lines_to_next_cell": 2
   },
   "outputs": [],
   "source": [
    "plt.figure(figsize=(1.5, 3), dpi=300)\n",
    "target.signif_volcano()\n",
    "plt.savefig(\n",
    "    f\"{rpath}/simplelm_target_benchmark_volcano.pdf\", bbox_inches=\"tight\", transparent=True\n",
    ")\n",
    "plt.show()"
   ]
  },
  {
   "cell_type": "markdown",
   "metadata": {},
   "source": [
    "Distribution of the signifcant Drug-Gene associations across a protein-protein interaction network"
   ]
  },
  {
   "cell_type": "code",
   "execution_count": null,
   "metadata": {
    "lines_to_next_cell": 2
   },
   "outputs": [],
   "source": [
    "for dtype in [\"crispr\"]:\n",
    "\n",
    "    fig, axs = plt.subplots(2, 1, figsize=(2.5, 5), dpi=300)\n",
    "\n",
    "    # Boxplot\n",
    "    target.drugs_ppi(dtype, ax=axs[0])\n",
    "\n",
    "    axs[0].set_xlabel(\"Associated gene position in PPI\")\n",
    "    axs[0].set_ylabel(\"Bonferroni adj. p-value\")\n",
    "    axs[0].set_title(\"Significant associations\\n(adj. p-value < 10%)\")\n",
    "\n",
    "    # Count plot\n",
    "    target.drugs_ppi_countplot(dtype, ax=axs[1])\n",
    "\n",
    "    axs[1].set_xlabel(\"Associated gene position in PPI\")\n",
    "    axs[1].set_ylabel(\"Number of associations\")\n",
    "\n",
    "    plt.savefig(\n",
    "        f\"{rpath}/simplelm_benchmark_ppi_distance_{dtype}.pdf\",\n",
    "        bbox_inches=\"tight\",\n",
    "        transparent=True,\n",
    "    )\n",
    "\n",
    "    plt.show()"
   ]
  },
  {
   "cell_type": "markdown",
   "metadata": {},
   "source": [
    "Histogram of drugs with at least one significant association across the protein-protein network"
   ]
  },
  {
   "cell_type": "code",
   "execution_count": null,
   "metadata": {
    "lines_to_next_cell": 2
   },
   "outputs": [],
   "source": [
    "plt.figure(figsize=(2, 1), dpi=300)\n",
    "target.countplot_drugs_significant()\n",
    "plt.savefig(\n",
    "    f\"{rpath}/simplelm_benchmark_association_signif_countplot.pdf\",\n",
    "    bbox_inches=\"tight\",\n",
    "    transparent=True,\n",
    ")\n",
    "plt.show()"
   ]
  },
  {
   "cell_type": "markdown",
   "metadata": {},
   "source": [
    "Pie chart of significant associations per unique durgs ordered by distance in the PPI"
   ]
  },
  {
   "cell_type": "code",
   "execution_count": null,
   "metadata": {
    "lines_to_next_cell": 2
   },
   "outputs": [],
   "source": [
    "plt.figure(figsize=(2, 2), dpi=300)\n",
    "target.pichart_drugs_significant()\n",
    "plt.savefig(\n",
    "    f\"{rpath}/simplelm_benchmark_association_signif_piechart.pdf\",\n",
    "    bbox_inches=\"tight\",\n",
    "    transparent=True,\n",
    ")\n",
    "plt.show()"
   ]
  },
  {
   "cell_type": "markdown",
   "metadata": {},
   "source": [
    "Significant associations p-value (y-axis) maximum screened concentration"
   ]
  },
  {
   "cell_type": "code",
   "execution_count": null,
   "metadata": {
    "lines_to_next_cell": 2
   },
   "outputs": [],
   "source": [
    "target.signif_maxconcentration_scatter()\n",
    "plt.gcf().set_size_inches(2.5, 2.5)\n",
    "plt.savefig(\n",
    "    f\"{rpath}/simplelm_benchmark_signif_scatter_maxconcentration.pdf\",\n",
    "    bbox_inches=\"tight\",\n",
    "    transparent=True,\n",
    ")\n",
    "plt.show()"
   ]
  },
  {
   "cell_type": "markdown",
   "metadata": {},
   "source": [
    "Copyright (C) 2019 Emanuel Goncalves"
   ]
  }
 ],
 "metadata": {
  "jupytext": {
   "formats": "ipynb,py:light"
  },
  "kernelspec": {
   "display_name": "Python 3",
   "language": "python",
   "name": "python3"
  }
 },
 "nbformat": 4,
 "nbformat_minor": 2
}
