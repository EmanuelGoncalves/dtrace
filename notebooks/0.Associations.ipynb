{
 "cells": [
  {
   "cell_type": "code",
   "execution_count": null,
   "metadata": {},
   "outputs": [],
   "source": [
    "%matplotlib inline\n",
    "%autosave 0\n",
    "%load_ext autoreload\n",
    "%autoreload 2"
   ]
  },
  {
   "cell_type": "code",
   "execution_count": null,
   "metadata": {
    "lines_to_next_cell": 2
   },
   "outputs": [],
   "source": [
    "from dtrace.Associations import Association"
   ]
  },
  {
   "cell_type": "markdown",
   "metadata": {},
   "source": [
    "### Import data-sets"
   ]
  },
  {
   "cell_type": "markdown",
   "metadata": {},
   "source": [
    "Association files are exported to \"dtrace/data/\" folder (dpath). Warning, due to the large number of tests executed\n",
    "a complete run of this script takes over 7 hours (3.1 GHz Intel Core i7)."
   ]
  },
  {
   "cell_type": "code",
   "execution_count": null,
   "metadata": {
    "lines_to_next_cell": 2
   },
   "outputs": [],
   "source": [
    "assoc = Association()"
   ]
  },
  {
   "cell_type": "markdown",
   "metadata": {},
   "source": [
    "Perform PCA analysis on drug-response and gene-essentiality data-sets. Principal component 1 for the drug-response\n",
    "correlates significantly with growth measurements and therefore is generated before the associations so that is\n",
    "considered as a covariate in the linear regressions."
   ]
  },
  {
   "cell_type": "code",
   "execution_count": null,
   "metadata": {
    "lines_to_next_cell": 2
   },
   "outputs": [],
   "source": [
    "assoc.drespo_obj.perform_pca(subset=assoc.samples)\n",
    "assoc.crispr_obj.perform_pca(subset=assoc.samples)\n",
    "assoc.gexp_obj.perform_pca(subset=assoc.samples)"
   ]
  },
  {
   "cell_type": "markdown",
   "metadata": {},
   "source": [
    "## Linear drug-response associations"
   ]
  },
  {
   "cell_type": "markdown",
   "metadata": {},
   "source": [
    "These are the core functions to generate the linear associations with drug-response using other types of omics\n",
    "including CRISPR-Cas9 gene-essentiality, RNA-seq gene-expression, whole exome sequencing mutation status and DNA SNP6\n",
    "arrays copy-number status."
   ]
  },
  {
   "cell_type": "markdown",
   "metadata": {},
   "source": [
    "Linear mixed models trained with [LIMIX](https://limix.readthedocs.io/en/stable/), these models use a covariance\n",
    "matrix (K) as random effects of the data-set used for the independent features (X). Additionally, covariates (M) are\n",
    "considered: (i) growth rate represented by PC1 of drug-response; (ii) dummy variables of growth properties of the cell\n",
    "lines, (adherent, suspension or semi-adherent); and (iii) dummy variables for the institute of origin of the\n",
    "CRISPR-Cas9 data-sets, (Sanger or Broad);"
   ]
  },
  {
   "cell_type": "markdown",
   "metadata": {},
   "source": [
    "### Drug-response ~ CRISPR-Cas9"
   ]
  },
  {
   "cell_type": "code",
   "execution_count": null,
   "metadata": {
    "lines_to_next_cell": 2
   },
   "outputs": [],
   "source": [
    "lmm_dsingle = assoc.lmm_single_associations(verbose=1)\n",
    "lmm_dsingle.sort_values([\"fdr\", \"pval\"]).to_csv(\n",
    "    assoc.lmm_drug_crispr_file, index=False, compression=\"gzip\"\n",
    ")"
   ]
  },
  {
   "cell_type": "markdown",
   "metadata": {},
   "source": [
    "### Drug-response ~ Gene-expression"
   ]
  },
  {
   "cell_type": "code",
   "execution_count": null,
   "metadata": {},
   "outputs": [],
   "source": [
    "lmm_dgexp = assoc.lmm_single_associations(x_dtype=\"gexp\", verbose=1)\n",
    "lmm_dgexp.sort_values([\"fdr\", \"pval\"]).to_csv(\n",
    "    assoc.lmm_drug_gexp_file, index=False, compression=\"gzip\"\n",
    ")"
   ]
  },
  {
   "cell_type": "markdown",
   "metadata": {},
   "source": [
    "### Drug-response ~ Genomic (copy-number; mutations)"
   ]
  },
  {
   "cell_type": "code",
   "execution_count": null,
   "metadata": {
    "lines_to_next_cell": 2
   },
   "outputs": [],
   "source": [
    "lmm_dgenomic = assoc.lmm_single_associations(x_dtype=\"genomic\", verbose=1)\n",
    "lmm_dgenomic.sort_values([\"fdr\", \"pval\"]).to_csv(\n",
    "    assoc.lmm_drug_genomic_file, index=False, compression=\"gzip\"\n",
    ")"
   ]
  },
  {
   "cell_type": "markdown",
   "metadata": {},
   "source": [
    "## Robust pharmacogenomic associations"
   ]
  },
  {
   "cell_type": "markdown",
   "metadata": {},
   "source": [
    "These functions test associations between drug-response/gene-essentiality and genomic/gene-expression for those pairs\n",
    "of drugs and gene which are significantly correlated (log-ratio test BH-FDR < 10%)."
   ]
  },
  {
   "cell_type": "markdown",
   "metadata": {
    "lines_to_next_cell": 2
   },
   "source": [
    "(Drug,Gene) pairs that are both significantly correlated with a genomic feature (mutation, copy-number or gene-\n",
    "expression) are termed as robust pharmacogenomic associations, since these recapitulate an genomic association with\n",
    "two independent viability screens."
   ]
  },
  {
   "cell_type": "markdown",
   "metadata": {},
   "source": [
    "### (Drug-response; CRISPR-Cas9) ~ Genomic"
   ]
  },
  {
   "cell_type": "code",
   "execution_count": null,
   "metadata": {},
   "outputs": [],
   "source": [
    "lmm_robust = assoc.lmm_robust_associations(lmm_dsingle)\n",
    "lmm_robust.sort_values([\"drug_fdr\", \"drug_pval\"]).to_csv(\n",
    "    assoc.lmm_robust_genomic_file, index=False, compression=\"gzip\"\n",
    ")"
   ]
  },
  {
   "cell_type": "markdown",
   "metadata": {},
   "source": [
    "### (Drug-response; CRISPR-Cas9) ~ Gene-expression"
   ]
  },
  {
   "cell_type": "code",
   "execution_count": null,
   "metadata": {},
   "outputs": [],
   "source": [
    "lmm_robust_gexp = assoc.lmm_robust_associations(lmm_dsingle, x_dtype=\"gexp\")\n",
    "lmm_robust_gexp.sort_values([\"drug_fdr\", \"drug_pval\"]).to_csv(\n",
    "    assoc.lmm_robust_gexp_file, index=False, compression=\"gzip\"\n",
    ")"
   ]
  },
  {
   "cell_type": "markdown",
   "metadata": {},
   "source": [
    "Copyright (C) 2019 Emanuel Goncalves"
   ]
  }
 ],
 "metadata": {
  "jupytext": {
   "formats": "ipynb,py:light"
  },
  "kernelspec": {
   "display_name": "Python 3",
   "language": "python",
   "name": "python3"
  }
 },
 "nbformat": 4,
 "nbformat_minor": 2
}
