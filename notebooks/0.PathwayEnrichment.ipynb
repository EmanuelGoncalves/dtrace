{
 "cells": [
  {
   "cell_type": "code",
   "execution_count": null,
   "metadata": {},
   "outputs": [],
   "source": [
    "%matplotlib inline\n",
    "%autosave 0\n",
    "%load_ext autoreload\n",
    "%autoreload 2"
   ]
  },
  {
   "cell_type": "code",
   "execution_count": null,
   "metadata": {
    "lines_to_next_cell": 2
   },
   "outputs": [],
   "source": [
    "import pandas as pd\n",
    "from dtrace import dpath\n",
    "from dtrace.Associations import Association\n",
    "from dtrace.DTraceEnrichment import DTraceEnrichment"
   ]
  },
  {
   "cell_type": "markdown",
   "metadata": {},
   "source": [
    "Import data-sets"
   ]
  },
  {
   "cell_type": "code",
   "execution_count": null,
   "metadata": {
    "lines_to_next_cell": 2
   },
   "outputs": [],
   "source": [
    "assoc = Association(dtype=\"ic50\", pval_method=\"fdr_bh\", load_associations=True)"
   ]
  },
  {
   "cell_type": "markdown",
   "metadata": {},
   "source": [
    "Build betas matrix"
   ]
  },
  {
   "cell_type": "code",
   "execution_count": null,
   "metadata": {
    "lines_to_next_cell": 2
   },
   "outputs": [],
   "source": [
    "betas = pd.pivot_table(\n",
    "    assoc.lmm_drug_crispr,\n",
    "    index=[\"DRUG_ID\", \"DRUG_NAME\", \"VERSION\"],\n",
    "    columns=\"GeneSymbol\",\n",
    "    values=\"beta\",\n",
    ")"
   ]
  },
  {
   "cell_type": "markdown",
   "metadata": {},
   "source": [
    "## GSEA enrichment"
   ]
  },
  {
   "cell_type": "code",
   "execution_count": null,
   "metadata": {
    "lines_to_next_cell": 2
   },
   "outputs": [],
   "source": [
    "min_len = 5\n",
    "gsea = DTraceEnrichment()"
   ]
  },
  {
   "cell_type": "markdown",
   "metadata": {},
   "source": [
    "Enrichment of cancer hallmarks"
   ]
  },
  {
   "cell_type": "code",
   "execution_count": null,
   "metadata": {},
   "outputs": [],
   "source": [
    "gsea_h = pd.DataFrame(\n",
    "    {\n",
    "        d: gsea.gsea_enrichments(\n",
    "            betas.loc[d], \"h.all.v6.2.symbols.gmt\", min_len=min_len\n",
    "        )[\"e_score\"]\n",
    "        for d in betas.index\n",
    "    }\n",
    ").T"
   ]
  },
  {
   "cell_type": "code",
   "execution_count": null,
   "metadata": {},
   "outputs": [],
   "source": [
    "gsea_h.round(5).to_csv(\n",
    "    f\"{dpath}/drug_lmm_regressions_{assoc.dtype}_crispr_gsea_h.all.v6.2.csv.gz\",\n",
    "    index=False,\n",
    "    compression=\"gzip\",\n",
    ")"
   ]
  },
  {
   "cell_type": "markdown",
   "metadata": {},
   "source": [
    "Enrichment of GO Biological Processes"
   ]
  },
  {
   "cell_type": "code",
   "execution_count": null,
   "metadata": {},
   "outputs": [],
   "source": [
    "gsea_bp = pd.DataFrame(\n",
    "    {\n",
    "        d: gsea.gsea_enrichments(\n",
    "            betas.loc[d], \"c5.bp.v6.2.symbols.gmt\", min_len=min_len\n",
    "        )[\"e_score\"]\n",
    "        for d in betas.index\n",
    "    }\n",
    ").T"
   ]
  },
  {
   "cell_type": "code",
   "execution_count": null,
   "metadata": {},
   "outputs": [],
   "source": [
    "gsea_bp.round(5).to_csv(\n",
    "    f\"{dpath}/drug_lmm_regressions_{assoc.dtype}_crispr_gsea_c5.bp.v6.2.csv.gz\",\n",
    "    index=False,\n",
    "    compression=\"gzip\",\n",
    ")"
   ]
  },
  {
   "cell_type": "markdown",
   "metadata": {},
   "source": [
    "Copyright (C) 2019 Emanuel Goncalves"
   ]
  }
 ],
 "metadata": {
  "jupytext": {
   "formats": "ipynb,py:light"
  },
  "kernelspec": {
   "display_name": "Python 3",
   "language": "python",
   "name": "python3"
  }
 },
 "nbformat": 4,
 "nbformat_minor": 2
}
